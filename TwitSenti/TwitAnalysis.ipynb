{
 "cells": [
  {
   "cell_type": "markdown",
   "metadata": {},
   "source": [
    "The date is 2nd June 2019.\n",
    "<br>\n",
    "Today, we will analyse my Twitter timeline.\n",
    "<br>\n",
    "Let's start by loading the required modules."
   ]
  },
  {
   "cell_type": "code",
   "execution_count": 1,
   "metadata": {},
   "outputs": [],
   "source": [
    "import tweepy\n",
    "import pandas as pd\n",
    "import json"
   ]
  },
  {
   "cell_type": "markdown",
   "metadata": {},
   "source": [
    "tweepy is an API that lets python communicate with Twitter.\n",
    "<br>\n",
    "We use pandas to tabulate our data which makes it easier to work with.\n",
    "<br>\n",
    "The json module is required as our credentials required to access the Twitter API is saved in a file called twitter_credentials.json. We'll load the keys as shown below."
   ]
  },
  {
   "cell_type": "code",
   "execution_count": 2,
   "metadata": {},
   "outputs": [],
   "source": [
    "# Getting credentials\n",
    "with open(\"twitter_credentials.json\", \"r\") as file:\n",
    "    creds = json.load(file)"
   ]
  },
  {
   "cell_type": "markdown",
   "metadata": {},
   "source": [
    "Now using these credentials, we can access the Twitter API. (Note, each Twitter Developer user will have their own keys to access the API.)"
   ]
  },
  {
   "cell_type": "code",
   "execution_count": 3,
   "metadata": {},
   "outputs": [],
   "source": [
    "# Accessing the API\n",
    "auth = tweepy.OAuthHandler(creds['CONSUMER_KEY'], creds['CONSUMER_SECRET'])\n",
    "auth.set_access_token(creds['ACCESS_TOKEN'], creds['ACCESS_SECRET'])\n",
    "api = tweepy.API(auth)"
   ]
  },
  {
   "cell_type": "markdown",
   "metadata": {},
   "source": [
    "Now the api variable is a tweepy.api.API object which can be used to perform different tasks.\n",
    "<br>\n",
    "We'll now search the timeline and save these tweets in a pandas DataFrame."
   ]
  },
  {
   "cell_type": "code",
   "execution_count": 5,
   "metadata": {},
   "outputs": [],
   "source": [
    "# Searching tweets\n",
    "tweets = []\n",
    "hashtags = []\n",
    "varTimeline = api.home_timeline(count = 200, tweet_mode = 'extended')\n",
    "for tweet in varTimeline:\n",
    "    if(len(tweet.entities['hashtags']) > 0):\n",
    "        hashtags.append(tweet.entities['hashtags'][0]['text'])\n",
    "    tweets.append(tweet.full_text)\n",
    "tweetFrame = pd.DataFrame(tweets)\n",
    "tweetFrame.rename(index = str, columns = {0: 'Tweets'}, inplace = True)"
   ]
  },
  {
   "cell_type": "markdown",
   "metadata": {},
   "source": [
    "Let us see the number of tweets we've received."
   ]
  },
  {
   "cell_type": "code",
   "execution_count": 9,
   "metadata": {},
   "outputs": [
    {
     "data": {
      "text/plain": [
       "Tweets    189\n",
       "dtype: int64"
      ]
     },
     "execution_count": 9,
     "metadata": {},
     "output_type": "execute_result"
    }
   ],
   "source": [
    "tweetFrame.count()"
   ]
  },
  {
   "cell_type": "markdown",
   "metadata": {},
   "source": [
    "Let's take a look at a few of the tweets."
   ]
  },
  {
   "cell_type": "code",
   "execution_count": 11,
   "metadata": {},
   "outputs": [
    {
     "data": {
      "text/html": [
       "<div>\n",
       "<style scoped>\n",
       "    .dataframe tbody tr th:only-of-type {\n",
       "        vertical-align: middle;\n",
       "    }\n",
       "\n",
       "    .dataframe tbody tr th {\n",
       "        vertical-align: top;\n",
       "    }\n",
       "\n",
       "    .dataframe thead th {\n",
       "        text-align: right;\n",
       "    }\n",
       "</style>\n",
       "<table border=\"1\" class=\"dataframe\">\n",
       "  <thead>\n",
       "    <tr style=\"text-align: right;\">\n",
       "      <th></th>\n",
       "      <th>Tweets</th>\n",
       "    </tr>\n",
       "  </thead>\n",
       "  <tbody>\n",
       "    <tr>\n",
       "      <th>184</th>\n",
       "      <td>It was a glorious night in Madrid for @LFC... ...</td>\n",
       "    </tr>\n",
       "    <tr>\n",
       "      <th>185</th>\n",
       "      <td>Accomplished women are making a mark in sports...</td>\n",
       "    </tr>\n",
       "    <tr>\n",
       "      <th>186</th>\n",
       "      <td>This ought to be a very big sigh of relief! ht...</td>\n",
       "    </tr>\n",
       "    <tr>\n",
       "      <th>187</th>\n",
       "      <td>🇪🇬👑 Salah at Liverpool 😎\\n\\n⚽️7⃣1⃣ 👕1⃣0⃣4⃣\\n\\n...</td>\n",
       "    </tr>\n",
       "    <tr>\n",
       "      <th>188</th>\n",
       "      <td>Week-in-Review: Apple’s shipping a refresh for...</td>\n",
       "    </tr>\n",
       "  </tbody>\n",
       "</table>\n",
       "</div>"
      ],
      "text/plain": [
       "                                                Tweets\n",
       "184  It was a glorious night in Madrid for @LFC... ...\n",
       "185  Accomplished women are making a mark in sports...\n",
       "186  This ought to be a very big sigh of relief! ht...\n",
       "187  🇪🇬👑 Salah at Liverpool 😎\\n\\n⚽️7⃣1⃣ 👕1⃣0⃣4⃣\\n\\n...\n",
       "188  Week-in-Review: Apple’s shipping a refresh for..."
      ]
     },
     "execution_count": 11,
     "metadata": {},
     "output_type": "execute_result"
    }
   ],
   "source": [
    "tweetFrame.tail(5)"
   ]
  },
  {
   "cell_type": "markdown",
   "metadata": {},
   "source": [
    "Now we need to clean our tweets to remove the hashtags, retweets and usernames.\n",
    "<br>\n",
    "We'll also use a function to decontract tweets as much as possible to help with the analysis."
   ]
  },
  {
   "cell_type": "code",
   "execution_count": 12,
   "metadata": {},
   "outputs": [],
   "source": [
    "# Function to convert contractions to its longer form\n",
    "def decontracted(phrase):\n",
    "    # specific\n",
    "    phrase = re.sub(r\"won\\'t\", \"will not\", phrase)\n",
    "    phrase = re.sub(r\"can\\'t\", \"can not\", phrase)\n",
    "\n",
    "    # general\n",
    "    phrase = re.sub(r\"n\\'t\", \" not\", phrase)\n",
    "    phrase = re.sub(r\"\\'re\", \" are\", phrase)\n",
    "    phrase = re.sub(r\"\\'s\", \" is\", phrase)\n",
    "    phrase = re.sub(r\"\\'d\", \" would\", phrase)\n",
    "    phrase = re.sub(r\"\\'ll\", \" will\", phrase)\n",
    "    phrase = re.sub(r\"\\'t\", \" not\", phrase)\n",
    "    phrase = re.sub(r\"\\'ve\", \" have\", phrase)\n",
    "    phrase = re.sub(r\"\\'m\", \" am\", phrase)\n",
    "    return phrase"
   ]
  },
  {
   "cell_type": "markdown",
   "metadata": {},
   "source": [
    "Now we can begin cleaning the tweets."
   ]
  },
  {
   "cell_type": "code",
   "execution_count": 13,
   "metadata": {},
   "outputs": [],
   "source": [
    "# Cleaning tweets using regex\n",
    "import re\n",
    "\n",
    "clean_tweets = []\n",
    "for index, row in tweetFrame.iterrows():\n",
    "    clean_tweet = decontracted(row['Tweets'])\n",
    "    regex = 'RT'\n",
    "    clean_tweet = re.sub(regex, ' ', clean_tweet)\n",
    "    regex = \"(@_\\w+)|(@[A-Za-z0-9]+)|([^0-9A-Za-z \\t])|(\\w+:\\/\\/\\S+)\"\n",
    "    clean_tweet = re.sub(regex, ' ', clean_tweet)\n",
    "    regex = 'https://t.co/Uuy0zOBCim'\n",
    "    clean_tweet = re.sub(regex, '', clean_tweet)\n",
    "    clean_tweet = re.sub('^\\s*', '', clean_tweet)\n",
    "    clean_tweets.append(clean_tweet)\n",
    "    \n",
    "cleanTweetFrame = pd.DataFrame(clean_tweets)\n",
    "cleanTweetFrame.rename(index = str, columns = {0: 'Tweets'}, inplace = True)"
   ]
  },
  {
   "cell_type": "markdown",
   "metadata": {},
   "source": [
    "Now that the cleaned tweets are stored in the new DataFrame, we can begin our analysis."
   ]
  },
  {
   "cell_type": "markdown",
   "metadata": {},
   "source": [
    "Let us first check the most trending hastag on my timeline."
   ]
  },
  {
   "cell_type": "code",
   "execution_count": 19,
   "metadata": {},
   "outputs": [
    {
     "name": "stdout",
     "output_type": "stream",
     "text": [
      "        Hashtag  Frequency\n",
      "       UCLfinal         13\n",
      "     Bangladesh          2\n",
      "        HeroISL          2\n",
      "    BackTheBlue          2\n",
      "       UCLFinal          2\n",
      "      Telangana          2\n",
      " IndianFootball          2\n",
      "         SAvBAN          2\n",
      "           COYH          2\n",
      "          CWC19          2\n",
      "             PL          1\n",
      "        Madonna          1\n",
      "     BlueTigers          1\n",
      "      Vaporwave          1\n",
      "       KingsCup          1\n",
      "     GovBallNYC          1\n",
      "     WestBengal          1\n",
      "       WeAreBFC          1\n",
      "      KatyPerry          1\n",
      "   GoalOfTheDay          1\n"
     ]
    }
   ],
   "source": [
    "# Analysing tweets  \n",
    "from collections import Counter\n",
    "counter_hashtags = Counter(hashtags)  \n",
    "hashtag_count = pd.DataFrame(counter_hashtags.most_common(20))\n",
    "hashtag_count.rename(index = str, columns = {0: 'Hashtag', 1: 'Frequency'}, inplace = True)\n",
    "print(hashtag_count.to_string(index = False))"
   ]
  },
  {
   "cell_type": "markdown",
   "metadata": {},
   "source": [
    "As you can see, the most prominent hashtag is about the UCL finals.\n",
    "<br>\n",
    "The cricket world cup and Indian football have decent presence too."
   ]
  },
  {
   "cell_type": "markdown",
   "metadata": {},
   "source": [
    "Now let us analyse how friendly/positive the tweets on my timeline are.\n",
    "<br>\n",
    "For this we'll use TextBlob and its sentiment analyser."
   ]
  },
  {
   "cell_type": "code",
   "execution_count": 21,
   "metadata": {},
   "outputs": [
    {
     "data": {
      "text/plain": [
       "array([[<matplotlib.axes._subplots.AxesSubplot object at 0x1a221435f8>]],\n",
       "      dtype=object)"
      ]
     },
     "execution_count": 21,
     "metadata": {},
     "output_type": "execute_result"
    },
    {
     "data": {
      "image/png": "[encoded data removed]",
      "text/plain": [
       "<Figure size 432x288 with 1 Axes>"
      ]
     },
     "metadata": {
      "needs_background": "light"
     },
     "output_type": "display_data"
    }
   ],
   "source": [
    "from textblob import TextBlob\n",
    "import matplotlib.pyplot as plt\n",
    "pos = 0\n",
    "neg = 0    \n",
    "neu = 0\n",
    "sentiList = []\n",
    "for index, row in cleanTweetFrame.iterrows():\n",
    "    tweet = row['Tweets']\n",
    "    analysis = TextBlob(tweet)\n",
    "    sentiList.append(analysis.sentiment)\n",
    "    if(analysis.sentiment[0] > 0):\n",
    "        pos += 1\n",
    "    elif(analysis.sentiment[0] < 0):\n",
    "        neg += 1\n",
    "    else:\n",
    "        neu += 1\n",
    "sentiFrame = pd.DataFrame(sentiList)\n",
    "sentiFrame.hist(column = 'polarity')"
   ]
  },
  {
   "cell_type": "markdown",
   "metadata": {},
   "source": [
    "As you can see, most of the tweets are either neutral or positive.\n",
    "<br>\n",
    "Let us crunch these numbers a bit more."
   ]
  },
  {
   "cell_type": "code",
   "execution_count": 22,
   "metadata": {},
   "outputs": [
    {
     "name": "stdout",
     "output_type": "stream",
     "text": [
      "Positive tweets: 82 | Negative tweets: 20 | Neutral Tweets: 87\n",
      "Percentage of Positive tweets: 43.386243386243386%\n",
      "Percentage of Negative tweets: 10.582010582010582%\n",
      "Percentage of neutral tweets: 46.03174603174603%\n"
     ]
    }
   ],
   "source": [
    "print(f\"Positive tweets: {pos} | Negative tweets: {neg} | Neutral Tweets: {neu}\")\n",
    "total = pos + neg + neu\n",
    "print(f\"Percentage of Positive tweets: {(pos/total)*100}%\")\n",
    "print(f\"Percentage of Negative tweets: {(neg/total)*100}%\")\n",
    "print(f\"Percentage of neutral tweets: {(neu/total)*100}%\")"
   ]
  },
  {
   "cell_type": "code",
   "execution_count": 24,
   "metadata": {},
   "outputs": [
    {
     "data": {
      "image/png": "[encoded data removed]",
      "text/plain": [
       "<Figure size 432x288 with 1 Axes>"
      ]
     },
     "metadata": {},
     "output_type": "display_data"
    }
   ],
   "source": [
    "plt.pie([pos, neg, neu], labels=['Positive', 'Negative', 'Neutral'], colors=['Green', 'Red', 'Orange'], startangle=90, autopct='%.1f%%')\n",
    "plt.show()"
   ]
  },
  {
   "cell_type": "markdown",
   "metadata": {},
   "source": [
    "My final conclusion:\n",
    "I'm lucky to not have my timeline filled with negativity."
   ]
  }
 ],
 "metadata": {
  "kernelspec": {
   "display_name": "Python 3",
   "language": "python",
   "name": "python3"
  },
  "language_info": {
   "codemirror_mode": {
    "name": "ipython",
    "version": 3
   },
   "file_extension": ".py",
   "mimetype": "text/x-python",
   "name": "python",
   "nbconvert_exporter": "python",
   "pygments_lexer": "ipython3",
   "version": "3.7.3"
  }
 },
 "nbformat": 4,
 "nbformat_minor": 2
}
